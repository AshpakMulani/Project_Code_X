{
 "cells": [
  {
   "cell_type": "code",
   "execution_count": 2,
   "metadata": {},
   "outputs": [
    {
     "name": "stdout",
     "output_type": "stream",
     "text": [
      "Requirement already satisfied: openai-whisper in c:\\users\\admin\\appdata\\local\\programs\\python\\python311\\lib\\site-packages (from -r requirements.txt (line 1)) (20231117)\n",
      "Requirement already satisfied: pyaudio in c:\\users\\admin\\appdata\\local\\programs\\python\\python311\\lib\\site-packages (from -r requirements.txt (line 2)) (0.2.14)\n",
      "Requirement already satisfied: ffmpeg in c:\\users\\admin\\appdata\\local\\programs\\python\\python311\\lib\\site-packages (from -r requirements.txt (line 3)) (1.4)\n",
      "Requirement already satisfied: ffmpeg-python in c:\\users\\admin\\appdata\\local\\programs\\python\\python311\\lib\\site-packages (from -r requirements.txt (line 4)) (0.2.0)\n",
      "Collecting keyboard (from -r requirements.txt (line 5))\n",
      "  Downloading keyboard-0.13.5-py3-none-any.whl.metadata (4.0 kB)\n",
      "Requirement already satisfied: numba in c:\\users\\admin\\appdata\\local\\programs\\python\\python311\\lib\\site-packages (from openai-whisper->-r requirements.txt (line 1)) (0.59.0)\n",
      "Requirement already satisfied: numpy in c:\\users\\admin\\appdata\\local\\programs\\python\\python311\\lib\\site-packages (from openai-whisper->-r requirements.txt (line 1)) (1.24.3)\n",
      "Requirement already satisfied: torch in c:\\users\\admin\\appdata\\local\\programs\\python\\python311\\lib\\site-packages (from openai-whisper->-r requirements.txt (line 1)) (2.1.1)\n",
      "Requirement already satisfied: tqdm in c:\\users\\admin\\appdata\\local\\programs\\python\\python311\\lib\\site-packages (from openai-whisper->-r requirements.txt (line 1)) (4.65.0)\n",
      "Requirement already satisfied: more-itertools in c:\\users\\admin\\appdata\\local\\programs\\python\\python311\\lib\\site-packages (from openai-whisper->-r requirements.txt (line 1)) (10.2.0)\n",
      "Requirement already satisfied: tiktoken in c:\\users\\admin\\appdata\\local\\programs\\python\\python311\\lib\\site-packages (from openai-whisper->-r requirements.txt (line 1)) (0.6.0)\n",
      "Requirement already satisfied: future in c:\\users\\admin\\appdata\\local\\programs\\python\\python311\\lib\\site-packages (from ffmpeg-python->-r requirements.txt (line 4)) (1.0.0)\n",
      "Requirement already satisfied: llvmlite<0.43,>=0.42.0dev0 in c:\\users\\admin\\appdata\\local\\programs\\python\\python311\\lib\\site-packages (from numba->openai-whisper->-r requirements.txt (line 1)) (0.42.0)\n",
      "Requirement already satisfied: regex>=2022.1.18 in c:\\users\\admin\\appdata\\local\\programs\\python\\python311\\lib\\site-packages (from tiktoken->openai-whisper->-r requirements.txt (line 1)) (2023.6.3)\n",
      "Requirement already satisfied: requests>=2.26.0 in c:\\users\\admin\\appdata\\local\\programs\\python\\python311\\lib\\site-packages (from tiktoken->openai-whisper->-r requirements.txt (line 1)) (2.31.0)\n",
      "Requirement already satisfied: filelock in c:\\users\\admin\\appdata\\local\\programs\\python\\python311\\lib\\site-packages (from torch->openai-whisper->-r requirements.txt (line 1)) (3.12.2)\n",
      "Requirement already satisfied: typing-extensions in c:\\users\\admin\\appdata\\local\\programs\\python\\python311\\lib\\site-packages (from torch->openai-whisper->-r requirements.txt (line 1)) (4.6.3)\n",
      "Requirement already satisfied: sympy in c:\\users\\admin\\appdata\\local\\programs\\python\\python311\\lib\\site-packages (from torch->openai-whisper->-r requirements.txt (line 1)) (1.12)\n",
      "Requirement already satisfied: networkx in c:\\users\\admin\\appdata\\local\\programs\\python\\python311\\lib\\site-packages (from torch->openai-whisper->-r requirements.txt (line 1)) (3.2.1)\n",
      "Requirement already satisfied: jinja2 in c:\\users\\admin\\appdata\\local\\programs\\python\\python311\\lib\\site-packages (from torch->openai-whisper->-r requirements.txt (line 1)) (3.1.2)\n",
      "Requirement already satisfied: fsspec in c:\\users\\admin\\appdata\\local\\programs\\python\\python311\\lib\\site-packages (from torch->openai-whisper->-r requirements.txt (line 1)) (2023.6.0)\n",
      "Requirement already satisfied: colorama in c:\\users\\admin\\appdata\\local\\programs\\python\\python311\\lib\\site-packages (from tqdm->openai-whisper->-r requirements.txt (line 1)) (0.4.6)\n",
      "Requirement already satisfied: charset-normalizer<4,>=2 in c:\\users\\admin\\appdata\\local\\programs\\python\\python311\\lib\\site-packages (from requests>=2.26.0->tiktoken->openai-whisper->-r requirements.txt (line 1)) (3.1.0)\n",
      "Requirement already satisfied: idna<4,>=2.5 in c:\\users\\admin\\appdata\\local\\programs\\python\\python311\\lib\\site-packages (from requests>=2.26.0->tiktoken->openai-whisper->-r requirements.txt (line 1)) (3.4)\n",
      "Requirement already satisfied: urllib3<3,>=1.21.1 in c:\\users\\admin\\appdata\\local\\programs\\python\\python311\\lib\\site-packages (from requests>=2.26.0->tiktoken->openai-whisper->-r requirements.txt (line 1)) (2.0.3)\n",
      "Requirement already satisfied: certifi>=2017.4.17 in c:\\users\\admin\\appdata\\local\\programs\\python\\python311\\lib\\site-packages (from requests>=2.26.0->tiktoken->openai-whisper->-r requirements.txt (line 1)) (2023.5.7)\n",
      "Requirement already satisfied: MarkupSafe>=2.0 in c:\\users\\admin\\appdata\\local\\programs\\python\\python311\\lib\\site-packages (from jinja2->torch->openai-whisper->-r requirements.txt (line 1)) (2.1.3)\n",
      "Requirement already satisfied: mpmath>=0.19 in c:\\users\\admin\\appdata\\local\\programs\\python\\python311\\lib\\site-packages (from sympy->torch->openai-whisper->-r requirements.txt (line 1)) (1.3.0)\n",
      "Downloading keyboard-0.13.5-py3-none-any.whl (58 kB)\n",
      "   ---------------------------------------- 0.0/58.1 kB ? eta -:--:--\n",
      "   ------- -------------------------------- 10.2/58.1 kB ? eta -:--:--\n",
      "   --------------------- ------------------ 30.7/58.1 kB 1.3 MB/s eta 0:00:01\n",
      "   ----------------------------------- ---- 51.2/58.1 kB 650.2 kB/s eta 0:00:01\n",
      "   ---------------------------------------- 58.1/58.1 kB 382.9 kB/s eta 0:00:00\n",
      "Installing collected packages: keyboard\n",
      "Successfully installed keyboard-0.13.5\n",
      "Note: you may need to restart the kernel to use updated packages.\n"
     ]
    }
   ],
   "source": [
    "\n",
    "\n",
    "pip install -r requirements.txt\n"
   ]
  },
  {
   "cell_type": "code",
   "execution_count": 3,
   "metadata": {},
   "outputs": [
    {
     "name": "stdout",
     "output_type": "stream",
     "text": [
      "Requirement already satisfied: ffmpeg in c:\\users\\admin\\appdata\\local\\programs\\python\\python311\\lib\\site-packages (1.4)Note: you may need to restart the kernel to use updated packages.\n",
      "\n"
     ]
    }
   ],
   "source": [
    "\n",
    "pip install ffmpeg"
   ]
  },
  {
   "cell_type": "code",
   "execution_count": 6,
   "metadata": {},
   "outputs": [
    {
     "name": "stdout",
     "output_type": "stream",
     "text": [
      "Collecting ffmpeg-pythonNote: you may need to restart the kernel to use updated packages.\n",
      "\n",
      "  Downloading ffmpeg_python-0.2.0-py3-none-any.whl.metadata (1.7 kB)\n",
      "Collecting future (from ffmpeg-python)\n",
      "  Downloading future-1.0.0-py3-none-any.whl.metadata (4.0 kB)\n",
      "Downloading ffmpeg_python-0.2.0-py3-none-any.whl (25 kB)\n",
      "Downloading future-1.0.0-py3-none-any.whl (491 kB)\n",
      "   ---------------------------------------- 0.0/491.3 kB ? eta -:--:--\n",
      "   -- ------------------------------------- 30.7/491.3 kB 1.4 MB/s eta 0:00:01\n",
      "   ---- ---------------------------------- 61.4/491.3 kB 825.8 kB/s eta 0:00:01\n",
      "   ------- ------------------------------- 92.2/491.3 kB 871.5 kB/s eta 0:00:01\n",
      "   ----------- -------------------------- 143.4/491.3 kB 950.9 kB/s eta 0:00:01\n",
      "   ------------- ------------------------ 174.1/491.3 kB 952.6 kB/s eta 0:00:01\n",
      "   ----------------- -------------------- 225.3/491.3 kB 981.9 kB/s eta 0:00:01\n",
      "   -------------------- ----------------- 266.2/491.3 kB 862.0 kB/s eta 0:00:01\n",
      "   ------------------------- ------------ 327.7/491.3 kB 884.2 kB/s eta 0:00:01\n",
      "   -------------------------- ----------- 348.2/491.3 kB 832.3 kB/s eta 0:00:01\n",
      "   ------------------------------- ------ 409.6/491.3 kB 851.5 kB/s eta 0:00:01\n",
      "   ---------------------------------- --- 450.6/491.3 kB 855.0 kB/s eta 0:00:01\n",
      "   -------------------------------------  481.3/491.3 kB 861.1 kB/s eta 0:00:01\n",
      "   -------------------------------------- 491.3/491.3 kB 809.9 kB/s eta 0:00:00\n",
      "Installing collected packages: future, ffmpeg-python\n",
      "Successfully installed ffmpeg-python-0.2.0 future-1.0.0\n"
     ]
    }
   ],
   "source": [
    "pip install ffmpeg-python"
   ]
  },
  {
   "cell_type": "code",
   "execution_count": 3,
   "metadata": {},
   "outputs": [],
   "source": [
    "import whisper\n",
    "import warnings\n",
    "import pyaudio\n",
    "import wave\n",
    "import os\n",
    "import time\n",
    "warnings.simplefilter(\"ignore\")\n",
    "\n"
   ]
  },
  {
   "cell_type": "code",
   "execution_count": 4,
   "metadata": {},
   "outputs": [],
   "source": [
    "def record_audio(p_aud_obj, stream, target_file, chunk_length=5):\n",
    "    audio_frame = []\n",
    "\n",
    "    for _ in range(0, int(16000/1024 * chunk_length)):\n",
    "        sample = stream.read(1024)\n",
    "        audio_frame.append(sample)\n",
    "\n",
    "    audio_file=wave.open(target_file,'wb')\n",
    "    audio_file.setnchannels(1)\n",
    "    audio_file.setsampwidth(p_aud_obj.get_sample_size(pyaudio.paInt16))\n",
    "    audio_file.setframerate(16000)\n",
    "    audio_file.writeframes(b''.join(audio_frame))\n",
    "    audio_file.close()\n",
    "\n",
    " \n",
    "\n",
    "    \n"
   ]
  },
  {
   "cell_type": "code",
   "execution_count": 5,
   "metadata": {},
   "outputs": [],
   "source": [
    "model = whisper.load_model(\"base.en\")"
   ]
  },
  {
   "cell_type": "code",
   "execution_count": 3,
   "metadata": {},
   "outputs": [
    {
     "name": "stdout",
     "output_type": "stream",
     "text": [
      "Press any key to continue...\n",
      "Continuing execution...\n",
      "Press any key to continue...\n",
      "Continuing execution...\n",
      "Press any key to continue...\n"
     ]
    }
   ],
   "source": [
    "\n",
    "\n",
    "p_audio = pyaudio.PyAudio()\n",
    "audio_stream=p_audio.open(format=pyaudio.paInt16, channels=1, rate=16000, input=True, frames_per_buffer=1024)\n",
    "\n",
    "current_audio_transcription = \"\"\n",
    "\n",
    "try:\n",
    "    while True:\n",
    "        file=\"temp_recording.mp3\"\n",
    "        record_audio(p_audio, audio_stream, file)\n",
    "        transcription = model.transcribe(audio=\"temp_recording.mp3\")\n",
    "\n",
    "        if 'segments' in transcription.keys():\n",
    "            if (len(transcription['segments'])>0):\n",
    "                if(float(transcription['segments'][0]['no_speech_prob']) < 0.4):\n",
    "                    print(transcription['text'])\n",
    "\n",
    "\n",
    "        \n",
    "        print(\"Press any key to continue...\")\n",
    "        input()\n",
    "        print(\"Continuing execution...\")            \n",
    "        os.remove(file)\n",
    "except KeyboardInterrupt: \n",
    "    print(\"stoping....\")\n",
    "    audio_stream.stop_stream()\n",
    "    audio_stream.close()\n",
    "    p_audio.terminate()\n"
   ]
  },
  {
   "cell_type": "code",
   "execution_count": 1,
   "metadata": {},
   "outputs": [
    {
     "ename": "NameError",
     "evalue": "name 'model' is not defined",
     "output_type": "error",
     "traceback": [
      "\u001b[1;31m---------------------------------------------------------------------------\u001b[0m",
      "\u001b[1;31mNameError\u001b[0m                                 Traceback (most recent call last)",
      "Cell \u001b[1;32mIn[1], line 1\u001b[0m\n\u001b[1;32m----> 1\u001b[0m transcription \u001b[38;5;241m=\u001b[39m \u001b[43mmodel\u001b[49m\u001b[38;5;241m.\u001b[39mtranscribe(audio\u001b[38;5;241m=\u001b[39m\u001b[38;5;124m\"\u001b[39m\u001b[38;5;124mrecorded_audio.wav\u001b[39m\u001b[38;5;124m\"\u001b[39m)\n\u001b[0;32m      2\u001b[0m \u001b[38;5;28mprint\u001b[39m(transcription)\n",
      "\u001b[1;31mNameError\u001b[0m: name 'model' is not defined"
     ]
    }
   ],
   "source": [
    "transcription = model.transcribe(audio=\"recorded_audio.wav\")\n",
    "print(transcription)"
   ]
  }
 ],
 "metadata": {
  "kernelspec": {
   "display_name": "Python 3",
   "language": "python",
   "name": "python3"
  },
  "language_info": {
   "codemirror_mode": {
    "name": "ipython",
    "version": 3
   },
   "file_extension": ".py",
   "mimetype": "text/x-python",
   "name": "python",
   "nbconvert_exporter": "python",
   "pygments_lexer": "ipython3",
   "version": "3.11.3"
  }
 },
 "nbformat": 4,
 "nbformat_minor": 2
}
